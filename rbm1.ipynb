{
  "nbformat": 4,
  "nbformat_minor": 0,
  "metadata": {
    "colab": {
      "name": "rbm1.ipynb",
      "provenance": [],
      "collapsed_sections": [],
      "include_colab_link": true
    },
    "kernelspec": {
      "display_name": "Python 3",
      "language": "python",
      "name": "python3"
    }
  },
  "cells": [
    {
      "cell_type": "markdown",
      "metadata": {
        "id": "view-in-github",
        "colab_type": "text"
      },
      "source": [
        "<a href=\"https://colab.research.google.com/github/lchen64/C3DfMRI/blob/master/rbm1.ipynb\" target=\"_parent\"><img src=\"https://colab.research.google.com/assets/colab-badge.svg\" alt=\"Open In Colab\"/></a>"
      ]
    },
    {
      "cell_type": "code",
      "metadata": {
        "id": "0OIXTR8yGXp7",
        "colab_type": "code",
        "outputId": "acb2debd-3f60-4b74-9d34-ce9f2c951512",
        "colab": {
          "base_uri": "https://localhost:8080/",
          "height": 102
        }
      },
      "source": [
        "from __future__ import print_function\n",
        "import torch\n",
        "x = torch.rand(5, 3)\n",
        "print(x)"
      ],
      "execution_count": 0,
      "outputs": [
        {
          "output_type": "stream",
          "text": [
            "tensor([[0.2280, 0.2328, 0.9673],\n",
            "        [0.1944, 0.7836, 0.2214],\n",
            "        [0.0203, 0.0215, 0.8160],\n",
            "        [0.2839, 0.8817, 0.9098],\n",
            "        [0.8383, 0.6874, 0.3628]])\n"
          ],
          "name": "stdout"
        }
      ]
    },
    {
      "cell_type": "code",
      "metadata": {
        "id": "EODIAqvjGXqA",
        "colab_type": "code",
        "colab": {}
      },
      "source": [
        "import numpy as np\n",
        "import pandas as pd\n",
        "import torch\n",
        "import torch.nn as nn\n",
        "import torch.nn.parallel\n",
        "import torch.optim as optim\n",
        "import torch.utils.data\n",
        "from torch.autograd import Variable"
      ],
      "execution_count": 0,
      "outputs": []
    },
    {
      "cell_type": "code",
      "metadata": {
        "id": "TTjEmDVdGXqD",
        "colab_type": "code",
        "colab": {}
      },
      "source": [
        "import torch\n",
        "\n",
        "\n",
        "class RBM():\n",
        "\n",
        "    def __init__(self, num_visible, num_hidden, k, learning_rate=1e-3, momentum_coefficient=0.5, weight_decay=1e-4, use_cuda=True):\n",
        "        self.num_visible = num_visible\n",
        "        self.num_hidden = num_hidden\n",
        "        self.k = k\n",
        "        self.learning_rate = learning_rate\n",
        "        self.momentum_coefficient = momentum_coefficient\n",
        "        self.weight_decay = weight_decay\n",
        "        self.use_cuda = use_cuda\n",
        "\n",
        "        self.weights = torch.randn(num_visible, num_hidden) * 0.1-\n",
        "        self.visible_bias = torch.ones(num_visible) * 0.5\n",
        "        self.hidden_bias = torch.zeros(num_hidden)\n",
        "\n",
        "        self.weights_momentum = torch.zeros(num_visible, num_hidden)\n",
        "        self.visible_bias_momentum = torch.zeros(num_visible)\n",
        "        self.hidden_bias_momentum = torch.zeros(num_hidden)\n",
        "\n",
        "        if self.use_cuda:\n",
        "            self.weights = self.weights.cuda()\n",
        "            self.visible_bias = self.visible_bias.cuda()\n",
        "            self.hidden_bias = self.hidden_bias.cuda()\n",
        "\n",
        "            self.weights_momentum = self.weights_momentum.cuda()\n",
        "            self.visible_bias_momentum = self.visible_bias_momentum.cuda()\n",
        "            self.hidden_bias_momentum = self.hidden_bias_momentum.cuda()\n",
        "\n",
        "    def sample_hidden(self, visible_probabilities):\n",
        "        hidden_activations = torch.matmul(visible_probabilities, self.weights) + self.hidden_bias\n",
        "        hidden_probabilities = self._sigmoid(hidden_activations)\n",
        "        return hidden_probabilities\n",
        "\n",
        "    def sample_visible(self, hidden_probabilities):\n",
        "        visible_activations = torch.matmul(hidden_probabilities, self.weights.t()) + self.visible_bias\n",
        "        visible_probabilities = self._sigmoid(visible_activations)\n",
        "        return visible_probabilities\n",
        "\n",
        "    def contrastive_divergence(self, input_data):\n",
        "        # Positive phase\n",
        "        positive_hidden_probabilities = self.sample_hidden(input_data)\n",
        "        positive_hidden_activations = (positive_hidden_probabilities >= self._random_probabilities(self.num_hidden)).float()\n",
        "        positive_associations = torch.matmul(input_data.t(), positive_hidden_activations)\n",
        "\n",
        "        # Negative phase\n",
        "        hidden_activations = positive_hidden_activations\n",
        "\n",
        "        for step in range(self.k):\n",
        "            visible_probabilities = self.sample_visible(hidden_activations)\n",
        "            hidden_probabilities = self.sample_hidden(visible_probabilities)\n",
        "            hidden_activations = (hidden_probabilities >= self._random_probabilities(self.num_hidden)).float()\n",
        "\n",
        "        negative_visible_probabilities = visible_probabilities\n",
        "        negative_hidden_probabilities = hidden_probabilities\n",
        "\n",
        "        negative_associations = torch.matmul(negative_visible_probabilities.t(), negative_hidden_probabilities)\n",
        "\n",
        "        # Update parameters\n",
        "        self.weights_momentum *= self.momentum_coefficient\n",
        "        self.weights_momentum += (positive_associations - negative_associations)\n",
        "\n",
        "        self.visible_bias_momentum *= self.momentum_coefficient\n",
        "        self.visible_bias_momentum += torch.sum(input_data - negative_visible_probabilities, dim=0)\n",
        "\n",
        "        self.hidden_bias_momentum *= self.momentum_coefficient\n",
        "        self.hidden_bias_momentum += torch.sum(positive_hidden_probabilities - negative_hidden_probabilities, dim=0)\n",
        "\n",
        "        batch_size = input_data.size(0)\n",
        "\n",
        "        self.weights += self.weights_momentum * self.learning_rate / batch_size\n",
        "        self.visible_bias += self.visible_bias_momentum * self.learning_rate / batch_size\n",
        "        self.hidden_bias += self.hidden_bias_momentum * self.learning_rate / batch_size\n",
        "\n",
        "        self.weights -= self.weights * self.weight_decay  # L2 weight decay\n",
        "\n",
        "        # Compute reconstruction error\n",
        "        error = torch.sum((input_data - negative_visible_probabilities)**2)\n",
        "\n",
        "        return error\n",
        "\n",
        "    def _sigmoid(self, x):\n",
        "        return 1 / (1 + torch.exp(-x))\n",
        "\n",
        "    def _random_probabilities(self, num):\n",
        "        random_probabilities = torch.rand(num)\n",
        "\n",
        "        if self.use_cuda:\n",
        "            random_probabilities = random_probabilities.cuda()\n",
        "\n",
        "        return random_probabilities\n",
        "\n"
      ],
      "execution_count": 0,
      "outputs": []
    },
    {
      "cell_type": "code",
      "metadata": {
        "id": "tGmvnYNDGXqF",
        "colab_type": "code",
        "outputId": "f2730c84-73c5-44f7-98d0-2d117bb2799a",
        "colab": {}
      },
      "source": [
        "import numpy as np\n",
        "from sklearn.linear_model import LogisticRegression\n",
        "import torch\n",
        "import torchvision.datasets\n",
        "import torchvision.models\n",
        "import torchvision.transforms\n",
        "\n",
        "\n",
        "\n",
        "########## CONFIGURATION ########## \n",
        "BATCH_SIZE = 64\n",
        "VISIBLE_UNITS = 784  # 28 x 28 images\n",
        "HIDDEN_UNITS = 784 #128\n",
        "CD_K = 2\n",
        "EPOCHS = 10\n",
        "\n",
        "DATA_FOLDER = ''#'data/mnist'\n",
        "\n",
        "CUDA = torch.cuda.is_available()\n",
        "CUDA_DEVICE = 0\n",
        "\n",
        "if CUDA:\n",
        "    torch.cuda.set_device(CUDA_DEVICE)\n",
        "\n",
        "\n",
        "########## LOADING DATASET ##########\n",
        "print('Loading dataset...')\n",
        "\n",
        "#train_dataset = torchvision.datasets.MNIST(root=DATA_FOLDER, train=True, transform=torchvision.transforms.ToTensor(), download=True)\n",
        "train_dataset = torchvision.datasets.MNIST(root=DATA_FOLDER, train=True, transform=torchvision.transforms.ToTensor(), download=True)\n",
        "train_loader = torch.utils.data.DataLoader(train_dataset, batch_size=BATCH_SIZE)\n",
        "\n",
        "test_dataset = torchvision.datasets.MNIST(root=DATA_FOLDER, train=False, transform=torchvision.transforms.ToTensor(), download=False)\n",
        "test_loader = torch.utils.data.DataLoader(test_dataset, batch_size=BATCH_SIZE)\n",
        "\n",
        "\n",
        "########## TRAINING RBM ##########\n",
        "print('Training RBM...')\n",
        "\n",
        "rbm = RBM(VISIBLE_UNITS, HIDDEN_UNITS, CD_K, use_cuda=CUDA)\n",
        "\n",
        "for epoch in range(EPOCHS):\n",
        "    epoch_error = 0.0\n",
        "\n",
        "    for batch, _ in train_loader:\n",
        "        batch = batch.view(len(batch), VISIBLE_UNITS)  # flatten input data\n",
        "\n",
        "        if CUDA:\n",
        "            batch = batch.cuda()\n",
        "\n",
        "        batch_error = rbm.contrastive_divergence(batch)\n",
        "\n",
        "        epoch_error += batch_error\n",
        "\n",
        "    print('Epoch Error (epoch=%d): %.4f' % (epoch, epoch_error))\n",
        "\n",
        "\n",
        "########## EXTRACT FEATURES ##########\n",
        "print('Extracting features...')\n",
        "\n",
        "train_features = np.zeros((len(train_dataset), HIDDEN_UNITS))\n",
        "train_labels = np.zeros(len(train_dataset))\n",
        "test_features = np.zeros((len(test_dataset), HIDDEN_UNITS))\n",
        "test_labels = np.zeros(len(test_dataset))\n",
        "\n",
        "for i, (batch, labels) in enumerate(train_loader):\n",
        "    batch = batch.view(len(batch), VISIBLE_UNITS)  # flatten input data\n",
        "\n",
        "    if CUDA:\n",
        "        batch = batch.cuda()\n",
        "\n",
        "    train_features[i*BATCH_SIZE:i*BATCH_SIZE+len(batch)] = rbm.sample_hidden(batch).cpu().numpy()\n",
        "    train_labels[i*BATCH_SIZE:i*BATCH_SIZE+len(batch)] = labels.numpy()\n",
        "\n",
        "for i, (batch, labels) in enumerate(test_loader):\n",
        "    batch = batch.view(len(batch), VISIBLE_UNITS)  # flatten input data\n",
        "\n",
        "    if CUDA:\n",
        "        batch = batch.cuda()\n",
        "\n",
        "    test_features[i*BATCH_SIZE:i*BATCH_SIZE+len(batch)] = rbm.sample_hidden(batch).cpu().numpy()\n",
        "    #test_visible[i*BATCH_SIZE:i*BATCH_SIZE+len(batch)] = rbm.sample_visible(batch).cpu().numpy()\n",
        "    test_labels[i*BATCH_SIZE:i*BATCH_SIZE+len(batch)] = labels.numpy()\n",
        "\n",
        "\n",
        "########## CLASSIFICATION ##########\n",
        "print('Classifying...')\n",
        "\n",
        "clf = LogisticRegression()\n",
        "clf.fit(train_features, train_labels)\n",
        "predictions = clf.predict(test_features)\n",
        "\n",
        "print('Result: %d/%d' % (sum(predictions == test_labels), test_labels.shape[0]))\n"
      ],
      "execution_count": 0,
      "outputs": [
        {
          "output_type": "stream",
          "text": [
            "Loading dataset...\n",
            "Training RBM...\n",
            "Epoch Error (epoch=0): 3296847.5000\n",
            "Epoch Error (epoch=1): 2155368.7500\n",
            "Epoch Error (epoch=2): 1884536.3750\n",
            "Epoch Error (epoch=3): 1736148.3750\n",
            "Epoch Error (epoch=4): 1640916.1250\n",
            "Epoch Error (epoch=5): 1573921.1250\n",
            "Epoch Error (epoch=6): 1524518.1250\n",
            "Epoch Error (epoch=7): 1480032.6250\n",
            "Epoch Error (epoch=8): 1451212.8750\n",
            "Epoch Error (epoch=9): 1422088.1250\n",
            "Extracting features...\n",
            "Classifying...\n",
            "Result: 9656/10000\n"
          ],
          "name": "stdout"
        }
      ]
    },
    {
      "cell_type": "code",
      "metadata": {
        "id": "qq_WhgdSGXqI",
        "colab_type": "code",
        "outputId": "4c99829c-a2f8-4bc6-9e89-032923ace0ea",
        "colab": {
          "base_uri": "https://localhost:8080/",
          "height": 215
        }
      },
      "source": [
        "import matplotlib.pyplot as plt\n",
        "#plt.plot(train_features[0], train_labels)\n",
        "#plt.imshow([train_dataset[1][i].numpy() for i in range(len(train_dataset[1]))])\n",
        "#train_dataset[1][0]\n",
        "#print((train_dataset[2][1]))\n",
        "plt.imshow(train_dataset[2][0].numpy()[0])\n",
        "plt.show()"
      ],
      "execution_count": 0,
      "outputs": [
        {
          "output_type": "error",
          "ename": "NameError",
          "evalue": "ignored",
          "traceback": [
            "\u001b[0;31m---------------------------------------------------------------------------\u001b[0m",
            "\u001b[0;31mNameError\u001b[0m                                 Traceback (most recent call last)",
            "\u001b[0;32m<ipython-input-3-8038df5cb9d2>\u001b[0m in \u001b[0;36m<module>\u001b[0;34m()\u001b[0m\n\u001b[1;32m      4\u001b[0m \u001b[0;31m#train_dataset[1][0]\u001b[0m\u001b[0;34m\u001b[0m\u001b[0;34m\u001b[0m\u001b[0;34m\u001b[0m\u001b[0m\n\u001b[1;32m      5\u001b[0m \u001b[0;31m#print((train_dataset[2][1]))\u001b[0m\u001b[0;34m\u001b[0m\u001b[0;34m\u001b[0m\u001b[0;34m\u001b[0m\u001b[0m\n\u001b[0;32m----> 6\u001b[0;31m \u001b[0mplt\u001b[0m\u001b[0;34m.\u001b[0m\u001b[0mimshow\u001b[0m\u001b[0;34m(\u001b[0m\u001b[0mtrain_dataset\u001b[0m\u001b[0;34m[\u001b[0m\u001b[0;36m2\u001b[0m\u001b[0;34m]\u001b[0m\u001b[0;34m[\u001b[0m\u001b[0;36m0\u001b[0m\u001b[0;34m]\u001b[0m\u001b[0;34m.\u001b[0m\u001b[0mnumpy\u001b[0m\u001b[0;34m(\u001b[0m\u001b[0;34m)\u001b[0m\u001b[0;34m[\u001b[0m\u001b[0;36m0\u001b[0m\u001b[0;34m]\u001b[0m\u001b[0;34m)\u001b[0m\u001b[0;34m\u001b[0m\u001b[0;34m\u001b[0m\u001b[0m\n\u001b[0m\u001b[1;32m      7\u001b[0m \u001b[0mplt\u001b[0m\u001b[0;34m.\u001b[0m\u001b[0mshow\u001b[0m\u001b[0;34m(\u001b[0m\u001b[0;34m)\u001b[0m\u001b[0;34m\u001b[0m\u001b[0;34m\u001b[0m\u001b[0m\n",
            "\u001b[0;31mNameError\u001b[0m: name 'train_dataset' is not defined"
          ]
        }
      ]
    },
    {
      "cell_type": "code",
      "metadata": {
        "id": "ejUiuB_8GXqM",
        "colab_type": "code",
        "outputId": "c0ad5b8b-8a9b-4636-f8e2-47aad783bfac",
        "colab": {}
      },
      "source": [
        "vp = train_dataset[2][0].view(VISIBLE_UNITS)\n",
        "sh = rbm.sample_hidden(vp)\n",
        "sv = rbm.sample_visible(sh)\n",
        "plt.imshow(sv.reshape(28,28))\n",
        "plt.show()"
      ],
      "execution_count": 0,
      "outputs": [
        {
          "output_type": "display_data",
          "data": {
            "image/png": "[encoded data removed]",
            "text/plain": [
              "<Figure size 432x288 with 1 Axes>"
            ]
          },
          "metadata": {
            "tags": []
          }
        }
      ]
    },
    {
      "cell_type": "code",
      "metadata": {
        "id": "4nG0XnsyGXqR",
        "colab_type": "code",
        "outputId": "598e47b8-3731-4eee-a996-f4b9bd03e05f",
        "colab": {}
      },
      "source": [
        "print(test_labels[0])"
      ],
      "execution_count": 0,
      "outputs": [
        {
          "output_type": "stream",
          "text": [
            "7.0\n"
          ],
          "name": "stdout"
        }
      ]
    }
  ]
}